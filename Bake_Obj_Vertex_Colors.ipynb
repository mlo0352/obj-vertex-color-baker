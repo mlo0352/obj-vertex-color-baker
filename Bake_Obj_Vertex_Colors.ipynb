{
  "nbformat": 4,
  "nbformat_minor": 0,
  "metadata": {
    "colab": {
      "provenance": [],
      "authorship_tag": "ABX9TyMyJeeRmntdNZCXXISwbCIg",
      "include_colab_link": true
    },
    "kernelspec": {
      "name": "python3",
      "display_name": "Python 3"
    },
    "language_info": {
      "name": "python"
    }
  },
  "cells": [
    {
      "cell_type": "markdown",
      "metadata": {
        "id": "view-in-github",
        "colab_type": "text"
      },
      "source": [
        "<a href=\"https://colab.research.google.com/github/mlo0352/obj-vertex-color-baker/blob/main/Bake_Obj_Vertex_Colors.ipynb\" target=\"_parent\"><img src=\"https://colab.research.google.com/assets/colab-badge.svg\" alt=\"Open In Colab\"/></a>"
      ]
    },
    {
      "cell_type": "code",
      "execution_count": null,
      "metadata": {
        "id": "HnW9tRvNFBwB"
      },
      "outputs": [],
      "source": [
        "!git clone https://github.com/SunzeY/awesome-blender-script.git"
      ]
    },
    {
      "cell_type": "code",
      "source": [
        "!pip install bpy"
      ],
      "metadata": {
        "id": "rrug8mZuFU8A"
      },
      "execution_count": null,
      "outputs": []
    },
    {
      "cell_type": "code",
      "source": [
        "from google.colab import files\n",
        "\n",
        "filenames = list(files.upload().keys())"
      ],
      "metadata": {
        "id": "RQOIRB_OFid0"
      },
      "execution_count": null,
      "outputs": []
    },
    {
      "cell_type": "code",
      "source": [
        "for filename in filenames:\n",
        "  output_path = filename[:-4]+\"_output\"\n",
        "  !python awesome-blender-script/convert_to_std_obj.py -- --input_path $filename --output_path $output_path"
      ],
      "metadata": {
        "id": "34OI0SlAGd-E"
      },
      "execution_count": null,
      "outputs": []
    },
    {
      "cell_type": "code",
      "source": [
        "from google.colab import files\n",
        "for filename in filenames:\n",
        "  output_path = filename[:-4]+\"_output\"\n",
        "  fout = filename[:-4]+\".zip\"\n",
        "  !zip -r $fout $output_path\n",
        "  files.download(fout)"
      ],
      "metadata": {
        "id": "Hydv9V77rTDX"
      },
      "execution_count": null,
      "outputs": []
    }
  ]
}